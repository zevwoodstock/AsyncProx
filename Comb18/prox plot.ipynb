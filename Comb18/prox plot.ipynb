{
 "cells": [
  {
   "cell_type": "code",
   "execution_count": 69,
   "id": "94db79bb",
   "metadata": {},
   "outputs": [
    {
     "data": {
      "text/plain": [
       "[<matplotlib.lines.Line2D at 0x127ede530>]"
      ]
     },
     "execution_count": 69,
     "metadata": {},
     "output_type": "execute_result"
    },
    {
     "data": {
      "image/png": "[encoded data removed]",
      "text/plain": [
       "<Figure size 432x288 with 1 Axes>"
      ]
     },
     "metadata": {
      "needs_background": "light"
     },
     "output_type": "display_data"
    }
   ],
   "source": [
    "import numpy as np\n",
    "import matplotlib.pyplot as plt\n",
    "\n",
    "with open('x1.txt') as f:\n",
    "    lines = f.readlines()\n",
    "for i in range(len(lines)):\n",
    "    lines[i] = lines[i][1:-2].split(',')\n",
    "    lines[i] = [float(item.strip()) for item in lines[i]]\n",
    "a1 = np.linalg.norm(np.array(lines)-[1,1],2,axis = 1)\n",
    "x1 = np.arange(len(a1)) + 1\n",
    "\n",
    "with open('x2.txt') as f:\n",
    "    lines = f.readlines()\n",
    "for i in range(len(lines)):\n",
    "    lines[i] = lines[i][1:-2].split(',')\n",
    "    lines[i] = [float(item.strip()) for item in lines[i]]\n",
    "a2 = np.linalg.norm(np.array(lines)-[1,1],2,axis = 1)\n",
    "x2 = np.arange(len(a2)) + 1\n",
    "\n",
    "plt.plot(x1,a1)\n",
    "plt.plot(x2,a2)\n",
    "\n"
   ]
  },
  {
   "cell_type": "code",
   "execution_count": 64,
   "id": "1bc68408",
   "metadata": {},
   "outputs": [
    {
     "data": {
      "text/plain": [
       "0.8660254037844386"
      ]
     },
     "execution_count": 64,
     "metadata": {},
     "output_type": "execute_result"
    }
   ],
   "source": [
    "np.sqrt(0.75)"
   ]
  },
  {
   "cell_type": "code",
   "execution_count": 65,
   "id": "94bfada7",
   "metadata": {},
   "outputs": [
    {
     "data": {
      "text/plain": [
       "0.1339745962155614"
      ]
     },
     "execution_count": 65,
     "metadata": {},
     "output_type": "execute_result"
    }
   ],
   "source": [
    "1-np.sqrt(0.75)"
   ]
  },
  {
   "cell_type": "code",
   "execution_count": null,
   "id": "f01e3346",
   "metadata": {},
   "outputs": [],
   "source": []
  }
 ],
 "metadata": {
  "kernelspec": {
   "display_name": "Python 3 (ipykernel)",
   "language": "python",
   "name": "python3"
  },
  "language_info": {
   "codemirror_mode": {
    "name": "ipython",
    "version": 3
   },
   "file_extension": ".py",
   "mimetype": "text/x-python",
   "name": "python",
   "nbconvert_exporter": "python",
   "pygments_lexer": "ipython3",
   "version": "3.10.4"
  }
 },
 "nbformat": 4,
 "nbformat_minor": 5
}
